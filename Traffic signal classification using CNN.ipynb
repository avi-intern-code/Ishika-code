{
 "cells": [
  {
   "cell_type": "code",
   "execution_count": 1,
   "metadata": {},
   "outputs": [],
   "source": [
    "#Traffic Sign Classification\n",
    "#There are several different types of traffic signs like speed limits, no entry, traffic signals, turn left or right, children crossing, no passing of heavy vehicles, etc. Traffic signs classification is the process of identifying which class a traffic sign belongs to.\n",
    "#In this task, you have to build a deep neural network model that can classify traffic signs present in the image into different categories."
   ]
  },
  {
   "cell_type": "code",
   "execution_count": 31,
   "metadata": {},
   "outputs": [],
   "source": [
    "import numpy as np \n",
    "import pandas as pd \n",
    "import matplotlib.pyplot as plt\n",
    "import cv2\n",
    "import tensorflow as tf\n",
    "from PIL import Image\n",
    "import os\n",
    "os.chdir('C:\\\\Users\\\\aksha\\\\Downloads\\\\archive')\n",
    "from sklearn.model_selection import train_test_split\n",
    "#from keras.utils import to_categorical\n",
    "from keras.models import Sequential, load_model\n",
    "from keras.layers import Conv2D, MaxPool2D, Dense, Flatten, Dropout"
   ]
  },
  {
   "cell_type": "code",
   "execution_count": 32,
   "metadata": {},
   "outputs": [],
   "source": [
    "\n",
    "data = []\n",
    "labels = []\n",
    "# We have 43 Classes\n",
    "classes = 43\n",
    "cur_path = os.getcwd()"
   ]
  },
  {
   "cell_type": "code",
   "execution_count": 33,
   "metadata": {},
   "outputs": [
    {
     "data": {
      "text/plain": [
       "'C:\\\\Users\\\\aksha\\\\Downloads\\\\archive'"
      ]
     },
     "execution_count": 33,
     "metadata": {},
     "output_type": "execute_result"
    }
   ],
   "source": [
    "cur_path\n"
   ]
  },
  {
   "cell_type": "code",
   "execution_count": 34,
   "metadata": {},
   "outputs": [],
   "source": [
    "for i in range(classes): #the 43 classes in train folder of archive\n",
    "    path = os.path.join(cur_path,'train',str(i))\n",
    "    images = os.listdir(path)\n",
    "    for a in images:\n",
    "        try:\n",
    "            image = Image.open(path + '\\\\'+ a) #first loop will go to train folder 0TH folder \n",
    "            image = image.resize((30,30)) #it will choose the first image and resize into 30X30\n",
    "            image = np.array(image) # then it will change the image into array\n",
    "            data.append(image)# it will then append that array into a list 'data' which we have defined upar\n",
    "            labels.append(i) #this process will continue for all images and all folders 43\n",
    "        except Exception as e:\n",
    "            print(e)"
   ]
  },
  {
   "cell_type": "code",
   "execution_count": 35,
   "metadata": {},
   "outputs": [],
   "source": [
    "data = np.array(data) # converting into array\n",
    "\n",
    "labels = np.array(labels)"
   ]
  },
  {
   "cell_type": "code",
   "execution_count": null,
   "metadata": {},
   "outputs": [],
   "source": []
  },
  {
   "cell_type": "code",
   "execution_count": 36,
   "metadata": {},
   "outputs": [],
   "source": [
    "#os.mkdir('training')\n",
    "\n",
    "np.save('./training/data',data) #created a training folder in the archive folder in archive\n",
    "np.save('./training/target',labels) #for future use"
   ]
  },
  {
   "cell_type": "code",
   "execution_count": 37,
   "metadata": {},
   "outputs": [],
   "source": [
    "data=np.load('./training/data.npy')\n",
    "labels=np.load('./training/target.npy')"
   ]
  },
  {
   "cell_type": "code",
   "execution_count": 38,
   "metadata": {},
   "outputs": [
    {
     "name": "stdout",
     "output_type": "stream",
     "text": [
      "(39209, 30, 30, 3) (39209,)\n"
     ]
    }
   ],
   "source": [
    "print(data.shape, labels.shape) #will print te shape of data and label"
   ]
  },
  {
   "cell_type": "code",
   "execution_count": 39,
   "metadata": {},
   "outputs": [],
   "source": [
    "X_train, X_test, y_train, y_test = train_test_split(data, labels, test_size=0.2, random_state=0)\n",
    "# tarining the data"
   ]
  },
  {
   "cell_type": "code",
   "execution_count": 40,
   "metadata": {},
   "outputs": [
    {
     "name": "stdout",
     "output_type": "stream",
     "text": [
      "(31367, 30, 30, 3) (7842, 30, 30, 3) (31367,) (7842,)\n"
     ]
    }
   ],
   "source": [
    "print(X_train.shape, X_test.shape, y_train.shape, y_test.shape) #printing the shape"
   ]
  },
  {
   "cell_type": "code",
   "execution_count": 41,
   "metadata": {},
   "outputs": [],
   "source": [
    "# CONVERTING LABELS TO ONEHOT ENCODING\n",
    "from keras.utils.np_utils import to_categorical\n",
    "y_train = to_categorical(y_train, 43) # tarin the data and to_categoricslly method helps\n",
    "y_test = to_categorical(y_test, 43)"
   ]
  },
  {
   "cell_type": "code",
   "execution_count": 20,
   "metadata": {},
   "outputs": [],
   "source": [
    "#BUILD THE MODEL\n",
    "model = Sequential()\n",
    "model.add(Conv2D(filters=32, kernel_size=(5,5), activation='relu', input_shape=X_train.shape[1:]))\n",
    "model.add(Conv2D(filters=32, kernel_size=(5,5), activation='relu'))\n",
    "model.add(MaxPool2D(pool_size=(2, 2)))\n",
    "model.add(Dropout(rate=0.25))\n",
    "model.add(Conv2D(filters=64, kernel_size=(3, 3), activation='relu'))\n",
    "model.add(Conv2D(filters=64, kernel_size=(3, 3), activation='relu'))\n",
    "model.add(MaxPool2D(pool_size=(2, 2)))\n",
    "model.add(Dropout(rate=0.25))\n",
    "model.add(Flatten())\n",
    "model.add(Dense(256, activation='relu'))\n",
    "model.add(Dropout(rate=0.5))\n",
    "\n",
    "# We have 43 classes that's why we have defined 43 in the dense\n",
    "model.add(Dense(43, activation='softmax'))\n",
    "#outcome should be in 43 classes"
   ]
  },
  {
   "cell_type": "code",
   "execution_count": 43,
   "metadata": {},
   "outputs": [],
   "source": [
    "#Compilation of the model\n",
    "model.compile(loss='categorical_crossentropy', optimizer='adam', metrics=['accuracy'])"
   ]
  },
  {
   "cell_type": "code",
   "execution_count": 44,
   "metadata": {},
   "outputs": [
    {
     "name": "stdout",
     "output_type": "stream",
     "text": [
      "Epoch 1/20\n",
      "981/981 [==============================] - 117s 82ms/step - loss: 0.2612 - accuracy: 0.9438 - val_loss: 0.0675 - val_accuracy: 0.9796\n",
      "Epoch 2/20\n",
      "981/981 [==============================] - 79s 80ms/step - loss: 0.2546 - accuracy: 0.9400 - val_loss: 0.0305 - val_accuracy: 0.9921\n",
      "Epoch 3/20\n",
      "981/981 [==============================] - 79s 80ms/step - loss: 0.2727 - accuracy: 0.9375 - val_loss: 0.0449 - val_accuracy: 0.9887\n",
      "Epoch 4/20\n",
      "981/981 [==============================] - 79s 80ms/step - loss: 0.2223 - accuracy: 0.9476 - val_loss: 0.0491 - val_accuracy: 0.9864\n",
      "Epoch 5/20\n",
      "981/981 [==============================] - 80s 82ms/step - loss: 0.2380 - accuracy: 0.9454 - val_loss: 0.0664 - val_accuracy: 0.9844\n",
      "Epoch 6/20\n",
      "981/981 [==============================] - 83s 85ms/step - loss: 0.2696 - accuracy: 0.9416 - val_loss: 0.1270 - val_accuracy: 0.9694\n",
      "Epoch 7/20\n",
      "981/981 [==============================] - 79s 81ms/step - loss: 0.2513 - accuracy: 0.9424 - val_loss: 0.0473 - val_accuracy: 0.9872\n",
      "Epoch 8/20\n",
      "981/981 [==============================] - 81s 82ms/step - loss: 0.2120 - accuracy: 0.9519 - val_loss: 0.0768 - val_accuracy: 0.9800\n",
      "Epoch 9/20\n",
      "981/981 [==============================] - 81s 83ms/step - loss: 0.2768 - accuracy: 0.9370 - val_loss: 0.0520 - val_accuracy: 0.9867\n",
      "Epoch 10/20\n",
      "981/981 [==============================] - 79s 81ms/step - loss: 0.2395 - accuracy: 0.9458 - val_loss: 0.0642 - val_accuracy: 0.9807\n",
      "Epoch 11/20\n",
      "981/981 [==============================] - 78s 79ms/step - loss: 0.2426 - accuracy: 0.9471 - val_loss: 0.1377 - val_accuracy: 0.9630\n",
      "Epoch 12/20\n",
      "981/981 [==============================] - 78s 80ms/step - loss: 0.1975 - accuracy: 0.9527 - val_loss: 0.0608 - val_accuracy: 0.9814\n",
      "Epoch 13/20\n",
      "981/981 [==============================] - 78s 79ms/step - loss: 0.2130 - accuracy: 0.9485 - val_loss: 0.0900 - val_accuracy: 0.9749\n",
      "Epoch 14/20\n",
      "981/981 [==============================] - 78s 80ms/step - loss: 0.1976 - accuracy: 0.9525 - val_loss: 0.0512 - val_accuracy: 0.9869\n",
      "Epoch 15/20\n",
      "981/981 [==============================] - 78s 80ms/step - loss: 0.1823 - accuracy: 0.9561 - val_loss: 0.0526 - val_accuracy: 0.9871\n",
      "Epoch 16/20\n",
      "981/981 [==============================] - 77s 79ms/step - loss: 0.2546 - accuracy: 0.9437 - val_loss: 0.0842 - val_accuracy: 0.9781\n",
      "Epoch 17/20\n",
      "981/981 [==============================] - 77s 79ms/step - loss: 0.2913 - accuracy: 0.9377 - val_loss: 0.0492 - val_accuracy: 0.9869\n",
      "Epoch 18/20\n",
      "981/981 [==============================] - 84s 86ms/step - loss: 0.2369 - accuracy: 0.9431 - val_loss: 0.0479 - val_accuracy: 0.9880\n",
      "Epoch 19/20\n",
      "981/981 [==============================] - 85s 87ms/step - loss: 0.2282 - accuracy: 0.9481 - val_loss: 0.0700 - val_accuracy: 0.9846\n",
      "Epoch 20/20\n",
      "981/981 [==============================] - 80s 81ms/step - loss: 0.2532 - accuracy: 0.9461 - val_loss: 0.0945 - val_accuracy: 0.9770\n"
     ]
    }
   ],
   "source": [
    "epochs = 20\n",
    "history = model.fit(X_train, y_train, batch_size=32, epochs=epochs, validation_data=(X_test, y_test))"
   ]
  },
  {
   "cell_type": "code",
   "execution_count": 45,
   "metadata": {},
   "outputs": [
    {
     "data": {
      "image/png": "[encoded data removed]",
      "text/plain": [
       "<Figure size 432x288 with 1 Axes>"
      ]
     },
     "metadata": {
      "needs_background": "light"
     },
     "output_type": "display_data"
    }
   ],
   "source": [
    "# accuracy \n",
    "plt.figure(0)\n",
    "plt.plot(history.history['accuracy'], label='training accuracy')\n",
    "plt.plot(history.history['val_accuracy'], label='val accuracy')\n",
    "plt.title('Accuracy')\n",
    "plt.xlabel('epochs')\n",
    "plt.ylabel('accuracy')\n",
    "plt.legend()\n",
    "plt.show()"
   ]
  },
  {
   "cell_type": "code",
   "execution_count": 46,
   "metadata": {},
   "outputs": [
    {
     "data": {
      "image/png": "[encoded data removed]",
      "text/plain": [
       "<Figure size 432x288 with 1 Axes>"
      ]
     },
     "metadata": {
      "needs_background": "light"
     },
     "output_type": "display_data"
    }
   ],
   "source": [
    "\n",
    "# Loss\n",
    "plt.plot(history.history['loss'], label='training loss')\n",
    "plt.plot(history.history['val_loss'], label='val loss')\n",
    "plt.title('Loss')\n",
    "plt.xlabel('epochs')\n",
    "plt.ylabel('loss')\n",
    "plt.legend()\n",
    "plt.show()"
   ]
  },
  {
   "cell_type": "code",
   "execution_count": 47,
   "metadata": {},
   "outputs": [],
   "source": [
    "# TESTING ON TEST DATA\n",
    "def testing(testcsv):\n",
    "    y_test = pd.read_csv(testcsv)\n",
    "    label = y_test[\"ClassId\"].values\n",
    "    imgs = y_test[\"Path\"].values\n",
    "    data=[]\n",
    "    for img in imgs:\n",
    "        image = Image.open(img)\n",
    "        image = image.resize((30,30))\n",
    "        data.append(np.array(image))\n",
    "    X_test=np.array(data)\n",
    "    return X_test,label"
   ]
  },
  {
   "cell_type": "code",
   "execution_count": 48,
   "metadata": {},
   "outputs": [],
   "source": [
    "X_test, label = testing('Test.csv')"
   ]
  },
  {
   "cell_type": "code",
   "execution_count": 49,
   "metadata": {},
   "outputs": [
    {
     "data": {
      "text/plain": [
       "array([16,  1, 38, ..., 32,  7, 10], dtype=int64)"
      ]
     },
     "execution_count": 49,
     "metadata": {},
     "output_type": "execute_result"
    }
   ],
   "source": [
    "Y_pred = model.predict_classes(X_test)# it will store in y_pred\n",
    "Y_pred"
   ]
  },
  {
   "cell_type": "code",
   "execution_count": 50,
   "metadata": {},
   "outputs": [
    {
     "name": "stdout",
     "output_type": "stream",
     "text": [
      "0.934283452098179\n"
     ]
    }
   ],
   "source": [
    "# ACCURACY WITH TEST DATA\n",
    "from sklearn.metrics import accuracy_score\n",
    "print(accuracy_score(label, Y_pred))"
   ]
  },
  {
   "cell_type": "code",
   "execution_count": 51,
   "metadata": {},
   "outputs": [],
   "source": [
    "# SAVING THE MODEL\n",
    "model.save(\"./training/TSR.h5\")"
   ]
  },
  {
   "cell_type": "code",
   "execution_count": 1,
   "metadata": {},
   "outputs": [],
   "source": [
    "# LOAD THE MODEL\n",
    "import os\n",
    "os.chdir(r'C:\\\\Users\\\\aksha\\\\Downloads\\\\archive')\n",
    "from keras.models import load_model\n",
    "model = load_model('./training/TSR.h5') #LOAD THE ORIGINAL TRAINING DATA\n",
    "# can access that model anytime"
   ]
  },
  {
   "cell_type": "code",
   "execution_count": 2,
   "metadata": {},
   "outputs": [],
   "source": [
    "# testing on random image\n",
    "# Classes of trafic signs\n",
    "classes = { 0:'Speed limit (20km/h)',\n",
    "            1:'Speed limit (30km/h)', \n",
    "            2:'Speed limit (50km/h)', \n",
    "            3:'Speed limit (60km/h)', \n",
    "            4:'Speed limit (70km/h)', \n",
    "            5:'Speed limit (80km/h)', \n",
    "            6:'End of speed limit (80km/h)', \n",
    "            7:'Speed limit (100km/h)', \n",
    "            8:'Speed limit (120km/h)', \n",
    "            9:'No passing', \n",
    "            10:'No passing veh over 3.5 tons', \n",
    "            11:'Right-of-way at intersection', \n",
    "            12:'Priority road', \n",
    "            13:'Yield', \n",
    "            14:'Stop', \n",
    "            15:'No vehicles', \n",
    "            16:'Veh > 3.5 tons prohibited', \n",
    "            17:'No entry', \n",
    "            18:'General caution', \n",
    "            19:'Dangerous curve left', \n",
    "            20:'Dangerous curve right', \n",
    "            21:'Double curve', \n",
    "            22:'Bumpy road', \n",
    "            23:'Slippery road', \n",
    "            24:'Road narrows on the right', \n",
    "            25:'Road work', \n",
    "            26:'Traffic signals', \n",
    "            27:'Pedestrians', \n",
    "            28:'Children crossing', \n",
    "            29:'Bicycles crossing', \n",
    "            30:'Beware of ice/snow',\n",
    "            31:'Wild animals crossing', \n",
    "            32:'End speed + passing limits', \n",
    "            33:'Turn right ahead', \n",
    "            34:'Turn left ahead', \n",
    "            35:'Ahead only', \n",
    "            36:'Go straight or right', \n",
    "            37:'Go straight or left', \n",
    "            38:'Keep right', \n",
    "            39:'Keep left', \n",
    "            40:'Roundabout mandatory', \n",
    "            41:'End of no passing', \n",
    "            42:'End no passing veh > 3.5 tons' }"
   ]
  },
  {
   "cell_type": "code",
   "execution_count": 3,
   "metadata": {},
   "outputs": [],
   "source": [
    "from PIL import Image\n",
    "import numpy as np\n",
    "import matplotlib.pyplot as plt\n",
    "\n",
    "\n",
    "def test_on_img(img): #create  a function\n",
    "    data=[] #making an empty list\n",
    "    image = Image.open(img)  #it will open iamhe \n",
    "    image = image.resize((30,30)) # resize\n",
    "    data.append(np.array(image))\n",
    "    X_test=np.array(data)\n",
    "    Y_pred = model.predict_classes(X_test) # prediction on image\n",
    "    return image,Y_pred # and will return prediction and image"
   ]
  },
  {
   "cell_type": "code",
   "execution_count": 21,
   "metadata": {},
   "outputs": [
    {
     "name": "stdout",
     "output_type": "stream",
     "text": [
      "Predicted traffic sign is:  Stop\n"
     ]
    },
    {
     "data": {
      "image/png": "[encoded data removed]",
      "text/plain": [
       "<Figure size 432x288 with 1 Axes>"
      ]
     },
     "metadata": {
      "needs_background": "light"
     },
     "output_type": "display_data"
    },
    {
     "name": "stdout",
     "output_type": "stream",
     "text": [
      "14\n"
     ]
    }
   ],
   "source": [
    "plot,prediction = test_on_img(r'C:\\Users\\aksha\\Downloads\\sign4.jpg')\n",
    "\n",
    "s = [str(i) for i in prediction] \n",
    "a = int(\"\".join(s)) \n",
    "print(\"Predicted traffic sign is: \",classes[a])\n",
    "plt.imshow(plot)\n",
    "plt.show()\n",
    "print(a)"
   ]
  },
  {
   "cell_type": "code",
   "execution_count": null,
   "metadata": {},
   "outputs": [],
   "source": []
  }
 ],
 "metadata": {
  "kernelspec": {
   "display_name": "Python 3",
   "language": "python",
   "name": "python3"
  },
  "language_info": {
   "codemirror_mode": {
    "name": "ipython",
    "version": 3
   },
   "file_extension": ".py",
   "mimetype": "text/x-python",
   "name": "python",
   "nbconvert_exporter": "python",
   "pygments_lexer": "ipython3",
   "version": "3.8.5"
  }
 },
 "nbformat": 4,
 "nbformat_minor": 4
}
