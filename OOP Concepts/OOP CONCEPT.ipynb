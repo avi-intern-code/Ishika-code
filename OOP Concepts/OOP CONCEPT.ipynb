{
 "cells": [
  {
   "cell_type": "code",
   "execution_count": 4,
   "metadata": {},
   "outputs": [
    {
     "name": "stdout",
     "output_type": "stream",
     "text": [
      "<class 'int'>\n",
      "<class '__main__.Computer'>\n"
     ]
    }
   ],
   "source": [
    "class Computer:\n",
    "    \n",
    "    def config(self):\n",
    "        print(\"i5, 16gb, 1Tb\")\n",
    "    \n",
    "x=9\n",
    "print(type(x))\n",
    "\n",
    "a= '8'\n",
    "\n",
    "com1= Computer()\n",
    "\n",
    "print(type(com1))"
   ]
  },
  {
   "cell_type": "code",
   "execution_count": 9,
   "metadata": {},
   "outputs": [
    {
     "name": "stdout",
     "output_type": "stream",
     "text": [
      "i5, 16gb, 1Tb\n",
      "i5, 16gb, 1Tb\n",
      "i5, 16gb, 1Tb\n",
      "i5, 16gb, 1Tb\n"
     ]
    },
    {
     "data": {
      "text/plain": [
       "3"
      ]
     },
     "execution_count": 9,
     "metadata": {},
     "output_type": "execute_result"
    }
   ],
   "source": [
    "class Computer:\n",
    "    \n",
    "    def config(self):\n",
    "        print(\"i5, 16gb, 1Tb\")\n",
    "        \n",
    "com1= Computer()\n",
    "com2 = Computer()\n",
    "\n",
    "\n",
    "Computer.config(com1)\n",
    "Computer.config(com2)\n",
    "\n",
    "com1.config()\n",
    "com2.config()\n",
    "\n",
    "a=5\n",
    "a.bit_length()"
   ]
  },
  {
   "cell_type": "code",
   "execution_count": 12,
   "metadata": {},
   "outputs": [
    {
     "name": "stdout",
     "output_type": "stream",
     "text": [
      "Config is  i5 16\n",
      "Config is  Ryzen 3 8\n"
     ]
    }
   ],
   "source": [
    "class Computer:\n",
    "    \n",
    "    def __init__(self,cpu,ram):\n",
    "        self.cpu = cpu\n",
    "        self.ram= ram\n",
    "        \n",
    "        \n",
    "    def config(self):\n",
    "        print(\"Config is \", self.cpu, self.ram)\n",
    "        \n",
    "com1= Computer('i5',16)\n",
    "com2 = Computer('Ryzen 3',8)\n",
    "\n",
    "com1.config()\n",
    "com2.config()\n",
    "\n"
   ]
  },
  {
   "cell_type": "code",
   "execution_count": 14,
   "metadata": {},
   "outputs": [
    {
     "name": "stdout",
     "output_type": "stream",
     "text": [
      "2114015286512\n",
      "2114015362928\n"
     ]
    }
   ],
   "source": [
    "#constructor \n",
    "#self \n",
    "#size of an object de pend son the no. of variable an size of variable\n",
    "\n",
    "class Computer:\n",
    "    pass\n",
    "    \n",
    "c1= Computer()\n",
    "c2= Computer()\n",
    "    \n",
    "print(id(c1))\n",
    "print(id(c2))\n"
   ]
  },
  {
   "cell_type": "code",
   "execution_count": 18,
   "metadata": {},
   "outputs": [
    {
     "name": "stdout",
     "output_type": "stream",
     "text": [
      "Ishika\n",
      "Ishika\n"
     ]
    }
   ],
   "source": [
    "class Computer:\n",
    "    \n",
    "    def __init__(self):\n",
    "        \n",
    "        self.name = \"Ishika\"\n",
    "        self.age = 20\n",
    "\n",
    "    def Update(self):\n",
    "        self.age=30\n",
    "    \n",
    "    \n",
    "c1= Computer()\n",
    "c2= Computer()\n",
    "\n",
    "c1.name= \"rashi\"\n",
    "c1.age= 23\n",
    "\n",
    "c1.Update()\n",
    "    \n",
    "print(c1.name)\n",
    "print(c2.name)\n"
   ]
  },
  {
   "cell_type": "code",
   "execution_count": 23,
   "metadata": {},
   "outputs": [
    {
     "name": "stdout",
     "output_type": "stream",
     "text": [
      "age is not same\n",
      "Ishika\n",
      "Ishika\n"
     ]
    }
   ],
   "source": [
    "class Computer:\n",
    "    \n",
    "    def __init__(self):\n",
    "        \n",
    "        self.name = \"Ishika\"\n",
    "        self.age = 20\n",
    "\n",
    "    def Update(self):\n",
    "        self.age=30\n",
    "    \n",
    "    \n",
    "    def compare(self,other):\n",
    "        if self.age == other.age:\n",
    "            return True\n",
    "        else:\n",
    "            return False\n",
    "    \n",
    "c1= Computer()\n",
    "c1.age = 30\n",
    "c2= Computer()\n",
    "\n",
    "if c1.compare(c2):\n",
    "    print(\"age is same\")\n",
    "else:\n",
    "    print(\"age is not same\")\n",
    "    \n",
    "\n",
    "\n",
    "    \n",
    "print(c1.name)\n",
    "print(c2.name)\n"
   ]
  },
  {
   "cell_type": "code",
   "execution_count": 27,
   "metadata": {},
   "outputs": [
    {
     "name": "stdout",
     "output_type": "stream",
     "text": [
      "BMW 8 5\n",
      "BMW 10 5\n"
     ]
    }
   ],
   "source": [
    "\n",
    "# Type of variable\n",
    "\n",
    "class Car:\n",
    "    \n",
    "    wheels= 4 #class variable\n",
    "    \n",
    "    def __init__(self):\n",
    "        \n",
    "        #instance variable\n",
    "        self.mil= 10\n",
    "        self.com= \"BMW\"\n",
    "        \n",
    "        \n",
    "c1= Car()\n",
    "c2= Car()\n",
    "\n",
    "c1.mil= 8\n",
    "\n",
    "Car.wheels= 5\n",
    "\n",
    "print(c1.com, c1.mil, c1.wheels)\n",
    "print(c2.com, c2.mil, c2.wheels)"
   ]
  },
  {
   "cell_type": "code",
   "execution_count": 43,
   "metadata": {},
   "outputs": [
    {
     "name": "stdout",
     "output_type": "stream",
     "text": [
      "37.666666666666664\n",
      "41.0\n",
      "Telusko\n",
      "This is student class\n"
     ]
    }
   ],
   "source": [
    "# Types of Methods\n",
    "\n",
    "#Instance method\n",
    "#Class Methods\n",
    "#Static Methods\n",
    "\n",
    "class Student:\n",
    "    \n",
    "    school= 'Telusko'\n",
    "    \n",
    "    def __init__(self,m1,m2,m3):\n",
    "        self.m1= m1\n",
    "        self.m2= m2\n",
    "        self.m3= m3\n",
    "        \n",
    "    def avg(self):\n",
    "        return(self.m1 + self.m2 + self.m3)/3\n",
    "    \n",
    "    def get_m1(self):\n",
    "        return self.m1\n",
    "    \n",
    "    def set_m1(self,value):\n",
    "        self.m1= value\n",
    "        \n",
    "    @classmethod    \n",
    "    def getschool(cls):\n",
    "        return cls.school\n",
    "    \n",
    "    @staticmethod\n",
    "    def info():\n",
    "        print(\"This is student class\")\n",
    "\n",
    "s1= Student(23,34,56)\n",
    "s2= Student(34,67,22)\n",
    "\n",
    "print(s1.avg())\n",
    "print(s2.avg())\n",
    "\n",
    "print(Student.getschool())\n",
    "\n",
    "Student.info()\n",
    "        "
   ]
  },
  {
   "cell_type": "code",
   "execution_count": 50,
   "metadata": {},
   "outputs": [
    {
     "name": "stdout",
     "output_type": "stream",
     "text": [
      "Ishika 23\n",
      "Jenny 54\n"
     ]
    }
   ],
   "source": [
    "#Inner class\n",
    "\n",
    "class Student:\n",
    "    \n",
    "    def __init__(self,name,rollno):\n",
    "        self.name= name\n",
    "        self.rollno= rollno\n",
    "        self.lap = self.Laptop()\n",
    "        \n",
    "    def show(self):\n",
    "        print(self.name, self.rollno)\n",
    "        \n",
    "    class Laptop:\n",
    "        \n",
    "        def __init__(self):\n",
    "            self.brand='HP'\n",
    "            self.cpu= 'i5'\n",
    "            self.ram= 6\n",
    "\n",
    "s1= Student('Ishika',23)\n",
    "s2= Student('Jenny',54)\n",
    "\n",
    "s1.show()\n",
    "s2.show()\n",
    "\n",
    "lap1= s1.lap\n",
    "lap2= s2.lap"
   ]
  },
  {
   "cell_type": "code",
   "execution_count": null,
   "metadata": {},
   "outputs": [],
   "source": []
  }
 ],
 "metadata": {
  "kernelspec": {
   "display_name": "Python 3",
   "language": "python",
   "name": "python3"
  },
  "language_info": {
   "codemirror_mode": {
    "name": "ipython",
    "version": 3
   },
   "file_extension": ".py",
   "mimetype": "text/x-python",
   "name": "python",
   "nbconvert_exporter": "python",
   "pygments_lexer": "ipython3",
   "version": "3.8.5"
  }
 },
 "nbformat": 4,
 "nbformat_minor": 4
}
